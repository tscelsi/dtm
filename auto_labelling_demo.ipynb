{
 "cells": [
  {
   "cell_type": "code",
   "execution_count": 1,
   "metadata": {
    "ExecuteTime": {
     "end_time": "2021-10-24T05:30:13.786052Z",
     "start_time": "2021-10-24T05:30:08.687451Z"
    }
   },
   "outputs": [
    {
     "name": "stdout",
     "output_type": "stream",
     "text": [
      "Initialising EuroVoc...\n"
     ]
    }
   ],
   "source": [
    "from eurovoc import Eurovoc\n",
    "e = Eurovoc(True)"
   ]
  },
  {
   "cell_type": "code",
   "execution_count": 2,
   "metadata": {
    "ExecuteTime": {
     "end_time": "2021-10-24T05:30:16.460140Z",
     "start_time": "2021-10-24T05:30:13.824844Z"
    }
   },
   "outputs": [],
   "source": [
    "from auto_labelling import AutoLabel\n",
    "al = AutoLabel(e.eurovoc, phrase_col=\"TERMS (PT-NPT)\", label_col=\"MT\")"
   ]
  },
  {
   "cell_type": "code",
   "execution_count": 3,
   "metadata": {
    "ExecuteTime": {
     "end_time": "2021-10-24T05:30:16.509196Z",
     "start_time": "2021-10-24T05:30:16.505151Z"
    }
   },
   "outputs": [],
   "source": [
    "topic0 = [(0.2814950666697298, 'power'), (0.2414588962377678, 'system'), (0.11754153696260229, 'heat'), (0.07225017488814223, 'generation'), (0.06429135899845657, 'electricity'), (0.057083478661588666, 'chp'), (0.05036248076080362, 'energy'), (0.04161238301685071, 'electric'), (0.03957228287328841, 'district_heating'), (0.03433234093076981, 'electrical')]\n",
    "topic1 = [(0.28463746864835243, 'vehicle'), (0.1131353419301241, 'charge'), (0.09431332084698213, 'fuel'), (0.08854938218637383, 'car'), (0.08784287228904039, 'electric_vehicle'), (0.0838434503044064, 'hybrid'), (0.06825340696777439, 'battery'), (0.06261797404738897, 'transportation'), (0.05852492894671075, 'electric'), (0.05828185383284647, 'transport')]"
   ]
  },
  {
   "cell_type": "markdown",
   "metadata": {
    "ExecuteTime": {
     "end_time": "2021-10-24T05:01:46.212135Z",
     "start_time": "2021-10-24T05:01:46.210061Z"
    }
   },
   "source": [
    "## Get the top-1 label for the two above topics using different strategies."
   ]
  },
  {
   "cell_type": "code",
   "execution_count": 4,
   "metadata": {
    "ExecuteTime": {
     "end_time": "2021-10-24T05:30:55.226426Z",
     "start_time": "2021-10-24T05:30:16.551732Z"
    }
   },
   "outputs": [
    {
     "name": "stdout",
     "output_type": "stream",
     "text": [
      "Initialising gloVe embeddings...\n",
      "embedding labels: [[('6626 renewable energy', 0.88)], [('4811 organisation of transport', 0.9)]]\n",
      "tfidf labels: [[('6626 renewable energy', 0.8)], [('4811 organisation of transport', 1.05)]]\n"
     ]
    }
   ],
   "source": [
    "# first use\n",
    "emb_labels = al.get_topic_names(\n",
    "    [topic0, topic1], \n",
    "    top_n=1, \n",
    "    score_type=\"embedding\", \n",
    "    # here are kwargs for initialising the embeddings. For your first time\n",
    "    # using embeddings with a particular thesaurus, run load=False, save=True\n",
    "    # this will initialise your embeddings and save them to a file for future use\n",
    "    # In the future, by setting load=True, save=False the embeddings will load\n",
    "    # from phrase_embedding path faster than creating them newly every time.\n",
    "    load_embeddings=False, \n",
    "    save_embeddings=True,\n",
    "    phrase_embedding_path=\"phrase_embeddings_test.pickle\"\n",
    ")\n",
    "tfidf_labels = al.get_topic_names([topic0, topic1], top_n=1, score_type=\"tfidf\", raw=False)\n",
    "print(f\"embedding labels: {emb_labels}\")\n",
    "print(f\"tfidf labels: {tfidf_labels}\")"
   ]
  },
  {
   "cell_type": "code",
   "execution_count": 5,
   "metadata": {
    "ExecuteTime": {
     "end_time": "2021-10-24T05:30:55.346481Z",
     "start_time": "2021-10-24T05:30:55.275344Z"
    }
   },
   "outputs": [
    {
     "data": {
      "text/plain": [
       "[[('6626 renewable energy', 0.88),\n",
       "  ('6821 mechanical engineering', 0.86),\n",
       "  ('6826 electronics and electrical engineering', 0.84),\n",
       "  ('6411 technology and technical regulations', 0.83)]]"
      ]
     },
     "execution_count": 5,
     "metadata": {},
     "output_type": "execute_result"
    }
   ],
   "source": [
    "# second use, we can load our embeddings, \n",
    "# they have already been cached and exist in\n",
    "# phrase_embedding_path\n",
    "al.get_topic_names([topic0], top_n=4, score_type=\"embedding\", load_embeddings=True)"
   ]
  },
  {
   "cell_type": "code",
   "execution_count": 6,
   "metadata": {
    "ExecuteTime": {
     "end_time": "2021-10-24T05:30:59.181601Z",
     "start_time": "2021-10-24T05:30:59.116540Z"
    }
   },
   "outputs": [
    {
     "data": {
      "text/plain": [
       "[Counter({'0436 executive power and public service': 0.7293609,\n",
       "          '0821 defence': 0.7227734327316284,\n",
       "          '1216 criminal law': 0.6186639070510864,\n",
       "          '1611 economic conditions': 0.7402321100234985,\n",
       "          '1616 regions and regional policy': 0.6784568428993225,\n",
       "          '1631 economic analysis': 0.6407936811447144,\n",
       "          '2016 trade': 0.7488582730293274,\n",
       "          '2026 consumption': 0.7788588404655457,\n",
       "          '2036 distributive trades': 0.664232611656189,\n",
       "          '2446 taxation': 0.6853904128074646,\n",
       "          '2451 prices': 0.6853503584861755,\n",
       "          '2816 demography and population': 0.6058169007301331,\n",
       "          '3606 natural and applied sciences': 0.5531942248344421,\n",
       "          '3611 humanities': 0.5602853298187256,\n",
       "          '4006 business organisation': 0.7631054520606995,\n",
       "          '4016 legal form of organisations': 0.7187928557395935,\n",
       "          '4026 accounting': 0.7154008150100708,\n",
       "          '4811 organisation of transport': 0.8248358964920044,\n",
       "          '4816 land transport': 0.6951074004173279,\n",
       "          '5211 natural environment': 0.5786715745925903,\n",
       "          '5216 deterioration of the environment': 0.7689847946166992,\n",
       "          '5621 cultivation of agricultural land': 0.6386679410934448,\n",
       "          '6036 food technology': 0.6774760484695435,\n",
       "          '6406 production': 0.7853321433067322,\n",
       "          '6411 technology and technical regulations': 0.8315154910087585,\n",
       "          '6416 research and intellectual property': 0.7339038848876953,\n",
       "          '6611 coal and mining industries': 0.652035653591156,\n",
       "          '6616 oil and gas industry': 0.7289541959762573,\n",
       "          '6621 electrical and nuclear industries': 0.7921702265739441,\n",
       "          '6626 renewable energy': 0.8802022337913513,\n",
       "          '6811 chemistry': 0.5674641132354736,\n",
       "          '6816 iron, steel and other metal industries': 0.6058299541473389,\n",
       "          '6821 mechanical engineering': 0.8640455007553101,\n",
       "          '6826 electronics and electrical engineering': 0.8445450067520142,\n",
       "          '6831 building and public works': 0.8117012977600098,\n",
       "          '6836 wood industry': 0.6268476247787476,\n",
       "          '7206 europe': 0.5191352367401123,\n",
       "          '7216 america': 0.4892410337924957,\n",
       "          '7226 asia and oceania': 0.5435387492179871,\n",
       "          '7621 world organisations': 0.5781393647193909})]"
      ]
     },
     "execution_count": 6,
     "metadata": {},
     "output_type": "execute_result"
    }
   ],
   "source": [
    "al.get_topic_names([topic0], top_n=4, score_type=\"embedding\", raw=True)"
   ]
  },
  {
   "cell_type": "code",
   "execution_count": null,
   "metadata": {},
   "outputs": [],
   "source": []
  }
 ],
 "metadata": {
  "kernelspec": {
   "display_name": "Python 3",
   "language": "python",
   "name": "python3"
  },
  "language_info": {
   "codemirror_mode": {
    "name": "ipython",
    "version": 3
   },
   "file_extension": ".py",
   "mimetype": "text/x-python",
   "name": "python",
   "nbconvert_exporter": "python",
   "pygments_lexer": "ipython3",
   "version": "3.8.2"
  },
  "toc": {
   "base_numbering": 1,
   "nav_menu": {},
   "number_sections": true,
   "sideBar": true,
   "skip_h1_title": false,
   "title_cell": "Table of Contents",
   "title_sidebar": "Contents",
   "toc_cell": false,
   "toc_position": {},
   "toc_section_display": true,
   "toc_window_display": false
  },
  "varInspector": {
   "cols": {
    "lenName": 16,
    "lenType": 16,
    "lenVar": 40
   },
   "kernels_config": {
    "python": {
     "delete_cmd_postfix": "",
     "delete_cmd_prefix": "del ",
     "library": "var_list.py",
     "varRefreshCmd": "print(var_dic_list())"
    },
    "r": {
     "delete_cmd_postfix": ") ",
     "delete_cmd_prefix": "rm(",
     "library": "var_list.r",
     "varRefreshCmd": "cat(var_dic_list()) "
    }
   },
   "types_to_exclude": [
    "module",
    "function",
    "builtin_function_or_method",
    "instance",
    "_Feature"
   ],
   "window_display": false
  }
 },
 "nbformat": 4,
 "nbformat_minor": 4
}
